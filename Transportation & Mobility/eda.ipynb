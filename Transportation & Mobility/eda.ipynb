{
 "cells": [
  {
   "cell_type": "markdown",
   "metadata": {},
   "source": [
    "### Importing the required libraries"
   ]
  },
  {
   "cell_type": "code",
   "execution_count": 26,
   "metadata": {},
   "outputs": [],
   "source": [
    "import pandas as pd\n",
    "import numpy as np\n",
    "import matplotlib.pyplot as plt\n",
    "\n",
    "%matplotlib inline\n",
    "\n",
    "import warnings\n",
    "warnings.filterwarnings('ignore')"
   ]
  },
  {
   "cell_type": "markdown",
   "metadata": {},
   "source": [
    "### Loading the Data"
   ]
  },
  {
   "cell_type": "markdown",
   "metadata": {},
   "source": [
    "#### city_target_pax_ratings"
   ]
  },
  {
   "cell_type": "code",
   "execution_count": 27,
   "metadata": {},
   "outputs": [
    {
     "name": "stdout",
     "output_type": "stream",
     "text": [
      "(10, 2)\n"
     ]
    },
    {
     "data": {
      "text/html": [
       "<div>\n",
       "<style scoped>\n",
       "    .dataframe tbody tr th:only-of-type {\n",
       "        vertical-align: middle;\n",
       "    }\n",
       "\n",
       "    .dataframe tbody tr th {\n",
       "        vertical-align: top;\n",
       "    }\n",
       "\n",
       "    .dataframe thead th {\n",
       "        text-align: right;\n",
       "    }\n",
       "</style>\n",
       "<table border=\"1\" class=\"dataframe\">\n",
       "  <thead>\n",
       "    <tr style=\"text-align: right;\">\n",
       "      <th></th>\n",
       "      <th>city_id</th>\n",
       "      <th>target_avg_passenger_rating</th>\n",
       "    </tr>\n",
       "  </thead>\n",
       "  <tbody>\n",
       "    <tr>\n",
       "      <th>0</th>\n",
       "      <td>CH01</td>\n",
       "      <td>8.00</td>\n",
       "    </tr>\n",
       "    <tr>\n",
       "      <th>1</th>\n",
       "      <td>UP01</td>\n",
       "      <td>7.25</td>\n",
       "    </tr>\n",
       "    <tr>\n",
       "      <th>2</th>\n",
       "      <td>AP01</td>\n",
       "      <td>8.50</td>\n",
       "    </tr>\n",
       "    <tr>\n",
       "      <th>3</th>\n",
       "      <td>MP01</td>\n",
       "      <td>8.00</td>\n",
       "    </tr>\n",
       "    <tr>\n",
       "      <th>4</th>\n",
       "      <td>RJ01</td>\n",
       "      <td>8.25</td>\n",
       "    </tr>\n",
       "  </tbody>\n",
       "</table>\n",
       "</div>"
      ],
      "text/plain": [
       "  city_id  target_avg_passenger_rating\n",
       "0    CH01                         8.00\n",
       "1    UP01                         7.25\n",
       "2    AP01                         8.50\n",
       "3    MP01                         8.00\n",
       "4    RJ01                         8.25"
      ]
     },
     "execution_count": 27,
     "metadata": {},
     "output_type": "execute_result"
    }
   ],
   "source": [
    "city_target_pax_ratings = pd.read_csv('.\\\\datasets\\\\csv_files\\\\city_target_passenger_rating.csv')\n",
    "\n",
    "print(city_target_pax_ratings.shape)\n",
    "city_target_pax_ratings.head()"
   ]
  },
  {
   "cell_type": "markdown",
   "metadata": {},
   "source": [
    "#### dim_city"
   ]
  },
  {
   "cell_type": "code",
   "execution_count": 28,
   "metadata": {},
   "outputs": [
    {
     "name": "stdout",
     "output_type": "stream",
     "text": [
      "(10, 2)\n"
     ]
    },
    {
     "data": {
      "text/html": [
       "<div>\n",
       "<style scoped>\n",
       "    .dataframe tbody tr th:only-of-type {\n",
       "        vertical-align: middle;\n",
       "    }\n",
       "\n",
       "    .dataframe tbody tr th {\n",
       "        vertical-align: top;\n",
       "    }\n",
       "\n",
       "    .dataframe thead th {\n",
       "        text-align: right;\n",
       "    }\n",
       "</style>\n",
       "<table border=\"1\" class=\"dataframe\">\n",
       "  <thead>\n",
       "    <tr style=\"text-align: right;\">\n",
       "      <th></th>\n",
       "      <th>city_id</th>\n",
       "      <th>city_name</th>\n",
       "    </tr>\n",
       "  </thead>\n",
       "  <tbody>\n",
       "    <tr>\n",
       "      <th>0</th>\n",
       "      <td>RJ01</td>\n",
       "      <td>Jaipur</td>\n",
       "    </tr>\n",
       "    <tr>\n",
       "      <th>1</th>\n",
       "      <td>UP01</td>\n",
       "      <td>Lucknow</td>\n",
       "    </tr>\n",
       "    <tr>\n",
       "      <th>2</th>\n",
       "      <td>GJ01</td>\n",
       "      <td>Surat</td>\n",
       "    </tr>\n",
       "    <tr>\n",
       "      <th>3</th>\n",
       "      <td>KL01</td>\n",
       "      <td>Kochi</td>\n",
       "    </tr>\n",
       "    <tr>\n",
       "      <th>4</th>\n",
       "      <td>MP01</td>\n",
       "      <td>Indore</td>\n",
       "    </tr>\n",
       "  </tbody>\n",
       "</table>\n",
       "</div>"
      ],
      "text/plain": [
       "  city_id city_name\n",
       "0    RJ01    Jaipur\n",
       "1    UP01   Lucknow\n",
       "2    GJ01     Surat\n",
       "3    KL01     Kochi\n",
       "4    MP01    Indore"
      ]
     },
     "execution_count": 28,
     "metadata": {},
     "output_type": "execute_result"
    }
   ],
   "source": [
    "dim_city = pd.read_csv('.\\\\datasets\\\\csv_files\\\\dim_city.csv')\n",
    "print(dim_city.shape)\n",
    "dim_city.head()"
   ]
  },
  {
   "cell_type": "markdown",
   "metadata": {},
   "source": [
    "#### dim_date"
   ]
  },
  {
   "cell_type": "code",
   "execution_count": 29,
   "metadata": {},
   "outputs": [
    {
     "name": "stdout",
     "output_type": "stream",
     "text": [
      "(182, 4)\n"
     ]
    },
    {
     "data": {
      "text/html": [
       "<div>\n",
       "<style scoped>\n",
       "    .dataframe tbody tr th:only-of-type {\n",
       "        vertical-align: middle;\n",
       "    }\n",
       "\n",
       "    .dataframe tbody tr th {\n",
       "        vertical-align: top;\n",
       "    }\n",
       "\n",
       "    .dataframe thead th {\n",
       "        text-align: right;\n",
       "    }\n",
       "</style>\n",
       "<table border=\"1\" class=\"dataframe\">\n",
       "  <thead>\n",
       "    <tr style=\"text-align: right;\">\n",
       "      <th></th>\n",
       "      <th>date</th>\n",
       "      <th>start_of_month</th>\n",
       "      <th>month_name</th>\n",
       "      <th>day_type</th>\n",
       "    </tr>\n",
       "  </thead>\n",
       "  <tbody>\n",
       "    <tr>\n",
       "      <th>0</th>\n",
       "      <td>2024-01-01</td>\n",
       "      <td>2024-01-01</td>\n",
       "      <td>January</td>\n",
       "      <td>Weekday</td>\n",
       "    </tr>\n",
       "    <tr>\n",
       "      <th>1</th>\n",
       "      <td>2024-01-02</td>\n",
       "      <td>2024-01-01</td>\n",
       "      <td>January</td>\n",
       "      <td>Weekday</td>\n",
       "    </tr>\n",
       "    <tr>\n",
       "      <th>2</th>\n",
       "      <td>2024-01-03</td>\n",
       "      <td>2024-01-01</td>\n",
       "      <td>January</td>\n",
       "      <td>Weekday</td>\n",
       "    </tr>\n",
       "    <tr>\n",
       "      <th>3</th>\n",
       "      <td>2024-01-04</td>\n",
       "      <td>2024-01-01</td>\n",
       "      <td>January</td>\n",
       "      <td>Weekday</td>\n",
       "    </tr>\n",
       "    <tr>\n",
       "      <th>4</th>\n",
       "      <td>2024-01-05</td>\n",
       "      <td>2024-01-01</td>\n",
       "      <td>January</td>\n",
       "      <td>Weekday</td>\n",
       "    </tr>\n",
       "  </tbody>\n",
       "</table>\n",
       "</div>"
      ],
      "text/plain": [
       "         date start_of_month month_name day_type\n",
       "0  2024-01-01     2024-01-01    January  Weekday\n",
       "1  2024-01-02     2024-01-01    January  Weekday\n",
       "2  2024-01-03     2024-01-01    January  Weekday\n",
       "3  2024-01-04     2024-01-01    January  Weekday\n",
       "4  2024-01-05     2024-01-01    January  Weekday"
      ]
     },
     "execution_count": 29,
     "metadata": {},
     "output_type": "execute_result"
    }
   ],
   "source": [
    "dim_date = pd.read_csv('.\\\\datasets\\\\csv_files\\\\dim_date.csv')\n",
    "print(dim_date.shape)\n",
    "dim_date.head()"
   ]
  },
  {
   "cell_type": "markdown",
   "metadata": {},
   "source": [
    "#### dim_repeat_trip_dist"
   ]
  },
  {
   "cell_type": "code",
   "execution_count": 30,
   "metadata": {},
   "outputs": [
    {
     "name": "stdout",
     "output_type": "stream",
     "text": [
      "(540, 4)\n"
     ]
    },
    {
     "data": {
      "text/html": [
       "<div>\n",
       "<style scoped>\n",
       "    .dataframe tbody tr th:only-of-type {\n",
       "        vertical-align: middle;\n",
       "    }\n",
       "\n",
       "    .dataframe tbody tr th {\n",
       "        vertical-align: top;\n",
       "    }\n",
       "\n",
       "    .dataframe thead th {\n",
       "        text-align: right;\n",
       "    }\n",
       "</style>\n",
       "<table border=\"1\" class=\"dataframe\">\n",
       "  <thead>\n",
       "    <tr style=\"text-align: right;\">\n",
       "      <th></th>\n",
       "      <th>month</th>\n",
       "      <th>city_id</th>\n",
       "      <th>trip_count</th>\n",
       "      <th>repeat_passenger_count</th>\n",
       "    </tr>\n",
       "  </thead>\n",
       "  <tbody>\n",
       "    <tr>\n",
       "      <th>0</th>\n",
       "      <td>2024-01-01</td>\n",
       "      <td>AP01</td>\n",
       "      <td>10-Trips</td>\n",
       "      <td>7</td>\n",
       "    </tr>\n",
       "    <tr>\n",
       "      <th>1</th>\n",
       "      <td>2024-01-01</td>\n",
       "      <td>AP01</td>\n",
       "      <td>2-Trips</td>\n",
       "      <td>352</td>\n",
       "    </tr>\n",
       "    <tr>\n",
       "      <th>2</th>\n",
       "      <td>2024-01-01</td>\n",
       "      <td>AP01</td>\n",
       "      <td>3-Trips</td>\n",
       "      <td>158</td>\n",
       "    </tr>\n",
       "    <tr>\n",
       "      <th>3</th>\n",
       "      <td>2024-01-01</td>\n",
       "      <td>AP01</td>\n",
       "      <td>4-Trips</td>\n",
       "      <td>53</td>\n",
       "    </tr>\n",
       "    <tr>\n",
       "      <th>4</th>\n",
       "      <td>2024-01-01</td>\n",
       "      <td>AP01</td>\n",
       "      <td>5-Trips</td>\n",
       "      <td>38</td>\n",
       "    </tr>\n",
       "  </tbody>\n",
       "</table>\n",
       "</div>"
      ],
      "text/plain": [
       "        month city_id trip_count  repeat_passenger_count\n",
       "0  2024-01-01    AP01   10-Trips                       7\n",
       "1  2024-01-01    AP01    2-Trips                     352\n",
       "2  2024-01-01    AP01    3-Trips                     158\n",
       "3  2024-01-01    AP01    4-Trips                      53\n",
       "4  2024-01-01    AP01    5-Trips                      38"
      ]
     },
     "execution_count": 30,
     "metadata": {},
     "output_type": "execute_result"
    }
   ],
   "source": [
    "dim_repeat_trip_dist = pd.read_csv('.\\\\datasets\\\\csv_files\\\\dim_repeat_trip_distribution.csv')\n",
    "print(dim_repeat_trip_dist.shape)\n",
    "dim_repeat_trip_dist.head()"
   ]
  },
  {
   "cell_type": "markdown",
   "metadata": {},
   "source": [
    "#### fact_pax_summary"
   ]
  },
  {
   "cell_type": "code",
   "execution_count": 31,
   "metadata": {},
   "outputs": [
    {
     "name": "stdout",
     "output_type": "stream",
     "text": [
      "(60, 5)\n"
     ]
    },
    {
     "data": {
      "text/html": [
       "<div>\n",
       "<style scoped>\n",
       "    .dataframe tbody tr th:only-of-type {\n",
       "        vertical-align: middle;\n",
       "    }\n",
       "\n",
       "    .dataframe tbody tr th {\n",
       "        vertical-align: top;\n",
       "    }\n",
       "\n",
       "    .dataframe thead th {\n",
       "        text-align: right;\n",
       "    }\n",
       "</style>\n",
       "<table border=\"1\" class=\"dataframe\">\n",
       "  <thead>\n",
       "    <tr style=\"text-align: right;\">\n",
       "      <th></th>\n",
       "      <th>month</th>\n",
       "      <th>city_id</th>\n",
       "      <th>new_passengers</th>\n",
       "      <th>repeat_passengers</th>\n",
       "      <th>total_passengers</th>\n",
       "    </tr>\n",
       "  </thead>\n",
       "  <tbody>\n",
       "    <tr>\n",
       "      <th>0</th>\n",
       "      <td>2024-01-01</td>\n",
       "      <td>AP01</td>\n",
       "      <td>2513</td>\n",
       "      <td>650</td>\n",
       "      <td>3163</td>\n",
       "    </tr>\n",
       "    <tr>\n",
       "      <th>1</th>\n",
       "      <td>2024-01-01</td>\n",
       "      <td>CH01</td>\n",
       "      <td>3920</td>\n",
       "      <td>720</td>\n",
       "      <td>4640</td>\n",
       "    </tr>\n",
       "    <tr>\n",
       "      <th>2</th>\n",
       "      <td>2024-01-01</td>\n",
       "      <td>GJ01</td>\n",
       "      <td>2432</td>\n",
       "      <td>1184</td>\n",
       "      <td>3616</td>\n",
       "    </tr>\n",
       "    <tr>\n",
       "      <th>3</th>\n",
       "      <td>2024-01-01</td>\n",
       "      <td>GJ02</td>\n",
       "      <td>2089</td>\n",
       "      <td>544</td>\n",
       "      <td>2633</td>\n",
       "    </tr>\n",
       "    <tr>\n",
       "      <th>4</th>\n",
       "      <td>2024-01-01</td>\n",
       "      <td>KA01</td>\n",
       "      <td>1957</td>\n",
       "      <td>172</td>\n",
       "      <td>2129</td>\n",
       "    </tr>\n",
       "  </tbody>\n",
       "</table>\n",
       "</div>"
      ],
      "text/plain": [
       "        month city_id  new_passengers  repeat_passengers  total_passengers\n",
       "0  2024-01-01    AP01            2513                650              3163\n",
       "1  2024-01-01    CH01            3920                720              4640\n",
       "2  2024-01-01    GJ01            2432               1184              3616\n",
       "3  2024-01-01    GJ02            2089                544              2633\n",
       "4  2024-01-01    KA01            1957                172              2129"
      ]
     },
     "execution_count": 31,
     "metadata": {},
     "output_type": "execute_result"
    }
   ],
   "source": [
    "fact_pax_summary = pd.read_csv('.\\\\datasets\\\\csv_files\\\\fact_passenger_summary.csv')\n",
    "print(fact_pax_summary.shape)\n",
    "fact_pax_summary.head()"
   ]
  },
  {
   "cell_type": "markdown",
   "metadata": {},
   "source": [
    "#### fact_trips"
   ]
  },
  {
   "cell_type": "code",
   "execution_count": 32,
   "metadata": {},
   "outputs": [
    {
     "name": "stdout",
     "output_type": "stream",
     "text": [
      "(425903, 8)\n"
     ]
    },
    {
     "data": {
      "text/html": [
       "<div>\n",
       "<style scoped>\n",
       "    .dataframe tbody tr th:only-of-type {\n",
       "        vertical-align: middle;\n",
       "    }\n",
       "\n",
       "    .dataframe tbody tr th {\n",
       "        vertical-align: top;\n",
       "    }\n",
       "\n",
       "    .dataframe thead th {\n",
       "        text-align: right;\n",
       "    }\n",
       "</style>\n",
       "<table border=\"1\" class=\"dataframe\">\n",
       "  <thead>\n",
       "    <tr style=\"text-align: right;\">\n",
       "      <th></th>\n",
       "      <th>trip_id</th>\n",
       "      <th>date</th>\n",
       "      <th>city_id</th>\n",
       "      <th>passenger_type</th>\n",
       "      <th>distance_travelled(km)</th>\n",
       "      <th>fare_amount</th>\n",
       "      <th>passenger_rating</th>\n",
       "      <th>driver_rating</th>\n",
       "    </tr>\n",
       "  </thead>\n",
       "  <tbody>\n",
       "    <tr>\n",
       "      <th>0</th>\n",
       "      <td>TRPLUC240113d55de2fb</td>\n",
       "      <td>2024-01-13</td>\n",
       "      <td>UP01</td>\n",
       "      <td>repeated</td>\n",
       "      <td>11</td>\n",
       "      <td>158</td>\n",
       "      <td>5</td>\n",
       "      <td>5</td>\n",
       "    </tr>\n",
       "    <tr>\n",
       "      <th>1</th>\n",
       "      <td>TRPVAD240129a3b6dba8</td>\n",
       "      <td>2024-01-29</td>\n",
       "      <td>GJ02</td>\n",
       "      <td>repeated</td>\n",
       "      <td>7</td>\n",
       "      <td>74</td>\n",
       "      <td>5</td>\n",
       "      <td>5</td>\n",
       "    </tr>\n",
       "    <tr>\n",
       "      <th>2</th>\n",
       "      <td>TRPCOI240107a42430fb</td>\n",
       "      <td>2024-01-07</td>\n",
       "      <td>TN01</td>\n",
       "      <td>repeated</td>\n",
       "      <td>11</td>\n",
       "      <td>155</td>\n",
       "      <td>8</td>\n",
       "      <td>8</td>\n",
       "    </tr>\n",
       "    <tr>\n",
       "      <th>3</th>\n",
       "      <td>TRPKOC240325d7601389</td>\n",
       "      <td>2024-03-25</td>\n",
       "      <td>KL01</td>\n",
       "      <td>repeated</td>\n",
       "      <td>36</td>\n",
       "      <td>427</td>\n",
       "      <td>9</td>\n",
       "      <td>10</td>\n",
       "    </tr>\n",
       "    <tr>\n",
       "      <th>4</th>\n",
       "      <td>TRPVIS2406027be97166</td>\n",
       "      <td>2024-06-02</td>\n",
       "      <td>AP01</td>\n",
       "      <td>new</td>\n",
       "      <td>17</td>\n",
       "      <td>265</td>\n",
       "      <td>8</td>\n",
       "      <td>8</td>\n",
       "    </tr>\n",
       "  </tbody>\n",
       "</table>\n",
       "</div>"
      ],
      "text/plain": [
       "                trip_id        date city_id passenger_type  \\\n",
       "0  TRPLUC240113d55de2fb  2024-01-13    UP01       repeated   \n",
       "1  TRPVAD240129a3b6dba8  2024-01-29    GJ02       repeated   \n",
       "2  TRPCOI240107a42430fb  2024-01-07    TN01       repeated   \n",
       "3  TRPKOC240325d7601389  2024-03-25    KL01       repeated   \n",
       "4  TRPVIS2406027be97166  2024-06-02    AP01            new   \n",
       "\n",
       "   distance_travelled(km)  fare_amount  passenger_rating  driver_rating  \n",
       "0                      11          158                 5              5  \n",
       "1                       7           74                 5              5  \n",
       "2                      11          155                 8              8  \n",
       "3                      36          427                 9             10  \n",
       "4                      17          265                 8              8  "
      ]
     },
     "execution_count": 32,
     "metadata": {},
     "output_type": "execute_result"
    }
   ],
   "source": [
    "fact_trips = pd.read_csv('.\\\\datasets\\\\csv_files\\\\fact_trips.csv')\n",
    "print(fact_trips.shape)\n",
    "fact_trips.head()"
   ]
  },
  {
   "cell_type": "markdown",
   "metadata": {},
   "source": [
    "#### monthly_target_new_passengers"
   ]
  },
  {
   "cell_type": "code",
   "execution_count": 33,
   "metadata": {},
   "outputs": [
    {
     "name": "stdout",
     "output_type": "stream",
     "text": [
      "(60, 3)\n"
     ]
    },
    {
     "data": {
      "text/html": [
       "<div>\n",
       "<style scoped>\n",
       "    .dataframe tbody tr th:only-of-type {\n",
       "        vertical-align: middle;\n",
       "    }\n",
       "\n",
       "    .dataframe tbody tr th {\n",
       "        vertical-align: top;\n",
       "    }\n",
       "\n",
       "    .dataframe thead th {\n",
       "        text-align: right;\n",
       "    }\n",
       "</style>\n",
       "<table border=\"1\" class=\"dataframe\">\n",
       "  <thead>\n",
       "    <tr style=\"text-align: right;\">\n",
       "      <th></th>\n",
       "      <th>month</th>\n",
       "      <th>city_id</th>\n",
       "      <th>target_new_passengers</th>\n",
       "    </tr>\n",
       "  </thead>\n",
       "  <tbody>\n",
       "    <tr>\n",
       "      <th>0</th>\n",
       "      <td>2024-05-01</td>\n",
       "      <td>GJ01</td>\n",
       "      <td>1500</td>\n",
       "    </tr>\n",
       "    <tr>\n",
       "      <th>1</th>\n",
       "      <td>2024-05-01</td>\n",
       "      <td>GJ02</td>\n",
       "      <td>1500</td>\n",
       "    </tr>\n",
       "    <tr>\n",
       "      <th>2</th>\n",
       "      <td>2024-03-01</td>\n",
       "      <td>GJ01</td>\n",
       "      <td>2000</td>\n",
       "    </tr>\n",
       "    <tr>\n",
       "      <th>3</th>\n",
       "      <td>2024-05-01</td>\n",
       "      <td>UP01</td>\n",
       "      <td>2000</td>\n",
       "    </tr>\n",
       "    <tr>\n",
       "      <th>4</th>\n",
       "      <td>2024-05-01</td>\n",
       "      <td>MP01</td>\n",
       "      <td>2000</td>\n",
       "    </tr>\n",
       "  </tbody>\n",
       "</table>\n",
       "</div>"
      ],
      "text/plain": [
       "        month city_id  target_new_passengers\n",
       "0  2024-05-01    GJ01                   1500\n",
       "1  2024-05-01    GJ02                   1500\n",
       "2  2024-03-01    GJ01                   2000\n",
       "3  2024-05-01    UP01                   2000\n",
       "4  2024-05-01    MP01                   2000"
      ]
     },
     "execution_count": 33,
     "metadata": {},
     "output_type": "execute_result"
    }
   ],
   "source": [
    "monthly_target_new_passengers = pd.read_csv('.\\\\datasets\\\\csv_files\\\\monthly_target_new_passengers.csv')\n",
    "print(monthly_target_new_passengers.shape)\n",
    "monthly_target_new_passengers.head()"
   ]
  },
  {
   "cell_type": "markdown",
   "metadata": {},
   "source": [
    "#### monthly_target_trips"
   ]
  },
  {
   "cell_type": "code",
   "execution_count": 34,
   "metadata": {},
   "outputs": [
    {
     "name": "stdout",
     "output_type": "stream",
     "text": [
      "(60, 3)\n"
     ]
    },
    {
     "data": {
      "text/html": [
       "<div>\n",
       "<style scoped>\n",
       "    .dataframe tbody tr th:only-of-type {\n",
       "        vertical-align: middle;\n",
       "    }\n",
       "\n",
       "    .dataframe tbody tr th {\n",
       "        vertical-align: top;\n",
       "    }\n",
       "\n",
       "    .dataframe thead th {\n",
       "        text-align: right;\n",
       "    }\n",
       "</style>\n",
       "<table border=\"1\" class=\"dataframe\">\n",
       "  <thead>\n",
       "    <tr style=\"text-align: right;\">\n",
       "      <th></th>\n",
       "      <th>month</th>\n",
       "      <th>city_id</th>\n",
       "      <th>total_target_trips</th>\n",
       "    </tr>\n",
       "  </thead>\n",
       "  <tbody>\n",
       "    <tr>\n",
       "      <th>0</th>\n",
       "      <td>2024-03-01</td>\n",
       "      <td>MP01</td>\n",
       "      <td>7000</td>\n",
       "    </tr>\n",
       "    <tr>\n",
       "      <th>1</th>\n",
       "      <td>2024-05-01</td>\n",
       "      <td>KA01</td>\n",
       "      <td>2500</td>\n",
       "    </tr>\n",
       "    <tr>\n",
       "      <th>2</th>\n",
       "      <td>2024-04-01</td>\n",
       "      <td>UP01</td>\n",
       "      <td>11000</td>\n",
       "    </tr>\n",
       "    <tr>\n",
       "      <th>3</th>\n",
       "      <td>2024-02-01</td>\n",
       "      <td>GJ02</td>\n",
       "      <td>6000</td>\n",
       "    </tr>\n",
       "    <tr>\n",
       "      <th>4</th>\n",
       "      <td>2024-05-01</td>\n",
       "      <td>KL01</td>\n",
       "      <td>9000</td>\n",
       "    </tr>\n",
       "  </tbody>\n",
       "</table>\n",
       "</div>"
      ],
      "text/plain": [
       "        month city_id  total_target_trips\n",
       "0  2024-03-01    MP01                7000\n",
       "1  2024-05-01    KA01                2500\n",
       "2  2024-04-01    UP01               11000\n",
       "3  2024-02-01    GJ02                6000\n",
       "4  2024-05-01    KL01                9000"
      ]
     },
     "execution_count": 34,
     "metadata": {},
     "output_type": "execute_result"
    }
   ],
   "source": [
    "monthly_target_trips = pd.read_csv('.\\\\datasets\\\\csv_files\\\\monthly_target_trips.csv')\n",
    "print(monthly_target_trips.shape)\n",
    "monthly_target_trips.head()"
   ]
  },
  {
   "cell_type": "markdown",
   "metadata": {},
   "source": [
    "### Merge the dataframes"
   ]
  },
  {
   "cell_type": "code",
   "execution_count": 35,
   "metadata": {},
   "outputs": [
    {
     "data": {
      "text/html": [
       "<div>\n",
       "<style scoped>\n",
       "    .dataframe tbody tr th:only-of-type {\n",
       "        vertical-align: middle;\n",
       "    }\n",
       "\n",
       "    .dataframe tbody tr th {\n",
       "        vertical-align: top;\n",
       "    }\n",
       "\n",
       "    .dataframe thead th {\n",
       "        text-align: right;\n",
       "    }\n",
       "</style>\n",
       "<table border=\"1\" class=\"dataframe\">\n",
       "  <thead>\n",
       "    <tr style=\"text-align: right;\">\n",
       "      <th></th>\n",
       "      <th>month</th>\n",
       "      <th>city_id</th>\n",
       "      <th>new_passengers</th>\n",
       "      <th>repeat_passengers</th>\n",
       "      <th>total_passengers</th>\n",
       "      <th>target_avg_passenger_rating</th>\n",
       "    </tr>\n",
       "  </thead>\n",
       "  <tbody>\n",
       "    <tr>\n",
       "      <th>0</th>\n",
       "      <td>2024-01-01</td>\n",
       "      <td>AP01</td>\n",
       "      <td>2513</td>\n",
       "      <td>650</td>\n",
       "      <td>3163</td>\n",
       "      <td>8.5</td>\n",
       "    </tr>\n",
       "    <tr>\n",
       "      <th>1</th>\n",
       "      <td>2024-01-01</td>\n",
       "      <td>CH01</td>\n",
       "      <td>3920</td>\n",
       "      <td>720</td>\n",
       "      <td>4640</td>\n",
       "      <td>8.0</td>\n",
       "    </tr>\n",
       "    <tr>\n",
       "      <th>2</th>\n",
       "      <td>2024-01-01</td>\n",
       "      <td>GJ01</td>\n",
       "      <td>2432</td>\n",
       "      <td>1184</td>\n",
       "      <td>3616</td>\n",
       "      <td>7.0</td>\n",
       "    </tr>\n",
       "    <tr>\n",
       "      <th>3</th>\n",
       "      <td>2024-01-01</td>\n",
       "      <td>GJ02</td>\n",
       "      <td>2089</td>\n",
       "      <td>544</td>\n",
       "      <td>2633</td>\n",
       "      <td>7.5</td>\n",
       "    </tr>\n",
       "    <tr>\n",
       "      <th>4</th>\n",
       "      <td>2024-01-01</td>\n",
       "      <td>KA01</td>\n",
       "      <td>1957</td>\n",
       "      <td>172</td>\n",
       "      <td>2129</td>\n",
       "      <td>8.5</td>\n",
       "    </tr>\n",
       "  </tbody>\n",
       "</table>\n",
       "</div>"
      ],
      "text/plain": [
       "        month city_id  new_passengers  repeat_passengers  total_passengers  \\\n",
       "0  2024-01-01    AP01            2513                650              3163   \n",
       "1  2024-01-01    CH01            3920                720              4640   \n",
       "2  2024-01-01    GJ01            2432               1184              3616   \n",
       "3  2024-01-01    GJ02            2089                544              2633   \n",
       "4  2024-01-01    KA01            1957                172              2129   \n",
       "\n",
       "   target_avg_passenger_rating  \n",
       "0                          8.5  \n",
       "1                          8.0  \n",
       "2                          7.0  \n",
       "3                          7.5  \n",
       "4                          8.5  "
      ]
     },
     "execution_count": 35,
     "metadata": {},
     "output_type": "execute_result"
    }
   ],
   "source": [
    "# Merged the fact_pax_summary with city_target_pax_ratings\n",
    "df_pax_summary = pd.merge(fact_pax_summary, city_target_pax_ratings, how='left', on=['city_id'])\n",
    "df_pax_summary.head() "
   ]
  },
  {
   "cell_type": "code",
   "execution_count": 36,
   "metadata": {},
   "outputs": [
    {
     "data": {
      "text/html": [
       "<div>\n",
       "<style scoped>\n",
       "    .dataframe tbody tr th:only-of-type {\n",
       "        vertical-align: middle;\n",
       "    }\n",
       "\n",
       "    .dataframe tbody tr th {\n",
       "        vertical-align: top;\n",
       "    }\n",
       "\n",
       "    .dataframe thead th {\n",
       "        text-align: right;\n",
       "    }\n",
       "</style>\n",
       "<table border=\"1\" class=\"dataframe\">\n",
       "  <thead>\n",
       "    <tr style=\"text-align: right;\">\n",
       "      <th></th>\n",
       "      <th>month</th>\n",
       "      <th>city_id</th>\n",
       "      <th>new_passengers</th>\n",
       "      <th>repeat_passengers</th>\n",
       "      <th>total_passengers</th>\n",
       "      <th>target_avg_passenger_rating</th>\n",
       "      <th>city_name</th>\n",
       "    </tr>\n",
       "  </thead>\n",
       "  <tbody>\n",
       "    <tr>\n",
       "      <th>0</th>\n",
       "      <td>2024-01-01</td>\n",
       "      <td>AP01</td>\n",
       "      <td>2513</td>\n",
       "      <td>650</td>\n",
       "      <td>3163</td>\n",
       "      <td>8.5</td>\n",
       "      <td>Visakhapatnam</td>\n",
       "    </tr>\n",
       "    <tr>\n",
       "      <th>1</th>\n",
       "      <td>2024-01-01</td>\n",
       "      <td>CH01</td>\n",
       "      <td>3920</td>\n",
       "      <td>720</td>\n",
       "      <td>4640</td>\n",
       "      <td>8.0</td>\n",
       "      <td>Chandigarh</td>\n",
       "    </tr>\n",
       "    <tr>\n",
       "      <th>2</th>\n",
       "      <td>2024-01-01</td>\n",
       "      <td>GJ01</td>\n",
       "      <td>2432</td>\n",
       "      <td>1184</td>\n",
       "      <td>3616</td>\n",
       "      <td>7.0</td>\n",
       "      <td>Surat</td>\n",
       "    </tr>\n",
       "    <tr>\n",
       "      <th>3</th>\n",
       "      <td>2024-01-01</td>\n",
       "      <td>GJ02</td>\n",
       "      <td>2089</td>\n",
       "      <td>544</td>\n",
       "      <td>2633</td>\n",
       "      <td>7.5</td>\n",
       "      <td>Vadodara</td>\n",
       "    </tr>\n",
       "    <tr>\n",
       "      <th>4</th>\n",
       "      <td>2024-01-01</td>\n",
       "      <td>KA01</td>\n",
       "      <td>1957</td>\n",
       "      <td>172</td>\n",
       "      <td>2129</td>\n",
       "      <td>8.5</td>\n",
       "      <td>Mysore</td>\n",
       "    </tr>\n",
       "  </tbody>\n",
       "</table>\n",
       "</div>"
      ],
      "text/plain": [
       "        month city_id  new_passengers  repeat_passengers  total_passengers  \\\n",
       "0  2024-01-01    AP01            2513                650              3163   \n",
       "1  2024-01-01    CH01            3920                720              4640   \n",
       "2  2024-01-01    GJ01            2432               1184              3616   \n",
       "3  2024-01-01    GJ02            2089                544              2633   \n",
       "4  2024-01-01    KA01            1957                172              2129   \n",
       "\n",
       "   target_avg_passenger_rating      city_name  \n",
       "0                          8.5  Visakhapatnam  \n",
       "1                          8.0     Chandigarh  \n",
       "2                          7.0          Surat  \n",
       "3                          7.5       Vadodara  \n",
       "4                          8.5         Mysore  "
      ]
     },
     "execution_count": 36,
     "metadata": {},
     "output_type": "execute_result"
    }
   ],
   "source": [
    "# Merged the df_pax_summary with dim_city\n",
    "df_pax_summary = pd.merge(df_pax_summary, dim_city, how='left', on=['city_id'])\n",
    "df_pax_summary.head()"
   ]
  },
  {
   "cell_type": "code",
   "execution_count": 38,
   "metadata": {},
   "outputs": [
    {
     "data": {
      "text/html": [
       "<div>\n",
       "<style scoped>\n",
       "    .dataframe tbody tr th:only-of-type {\n",
       "        vertical-align: middle;\n",
       "    }\n",
       "\n",
       "    .dataframe tbody tr th {\n",
       "        vertical-align: top;\n",
       "    }\n",
       "\n",
       "    .dataframe thead th {\n",
       "        text-align: right;\n",
       "    }\n",
       "</style>\n",
       "<table border=\"1\" class=\"dataframe\">\n",
       "  <thead>\n",
       "    <tr style=\"text-align: right;\">\n",
       "      <th></th>\n",
       "      <th>month</th>\n",
       "      <th>city_id</th>\n",
       "      <th>trip_count</th>\n",
       "      <th>repeat_passenger_count</th>\n",
       "    </tr>\n",
       "  </thead>\n",
       "  <tbody>\n",
       "    <tr>\n",
       "      <th>0</th>\n",
       "      <td>2024-01-01</td>\n",
       "      <td>AP01</td>\n",
       "      <td>10-Trips</td>\n",
       "      <td>7</td>\n",
       "    </tr>\n",
       "    <tr>\n",
       "      <th>1</th>\n",
       "      <td>2024-01-01</td>\n",
       "      <td>AP01</td>\n",
       "      <td>2-Trips</td>\n",
       "      <td>352</td>\n",
       "    </tr>\n",
       "    <tr>\n",
       "      <th>2</th>\n",
       "      <td>2024-01-01</td>\n",
       "      <td>AP01</td>\n",
       "      <td>3-Trips</td>\n",
       "      <td>158</td>\n",
       "    </tr>\n",
       "    <tr>\n",
       "      <th>3</th>\n",
       "      <td>2024-01-01</td>\n",
       "      <td>AP01</td>\n",
       "      <td>4-Trips</td>\n",
       "      <td>53</td>\n",
       "    </tr>\n",
       "    <tr>\n",
       "      <th>4</th>\n",
       "      <td>2024-01-01</td>\n",
       "      <td>AP01</td>\n",
       "      <td>5-Trips</td>\n",
       "      <td>38</td>\n",
       "    </tr>\n",
       "  </tbody>\n",
       "</table>\n",
       "</div>"
      ],
      "text/plain": [
       "        month city_id trip_count  repeat_passenger_count\n",
       "0  2024-01-01    AP01   10-Trips                       7\n",
       "1  2024-01-01    AP01    2-Trips                     352\n",
       "2  2024-01-01    AP01    3-Trips                     158\n",
       "3  2024-01-01    AP01    4-Trips                      53\n",
       "4  2024-01-01    AP01    5-Trips                      38"
      ]
     },
     "execution_count": 38,
     "metadata": {},
     "output_type": "execute_result"
    }
   ],
   "source": [
    "dim_repeat_trip_dist.head()"
   ]
  },
  {
   "cell_type": "code",
   "execution_count": null,
   "metadata": {},
   "outputs": [],
   "source": []
  }
 ],
 "metadata": {
  "kernelspec": {
   "display_name": ".venv",
   "language": "python",
   "name": "python3"
  },
  "language_info": {
   "codemirror_mode": {
    "name": "ipython",
    "version": 3
   },
   "file_extension": ".py",
   "mimetype": "text/x-python",
   "name": "python",
   "nbconvert_exporter": "python",
   "pygments_lexer": "ipython3",
   "version": "3.12.3"
  }
 },
 "nbformat": 4,
 "nbformat_minor": 2
}
